{
 "cells": [
  {
   "cell_type": "code",
   "execution_count": 11,
   "metadata": {},
   "outputs": [
    {
     "ename": "SyntaxError",
     "evalue": "invalid syntax (<ipython-input-11-32701eb11fe7>, line 3)",
     "output_type": "error",
     "traceback": [
      "\u001b[0;36m  File \u001b[0;32m\"<ipython-input-11-32701eb11fe7>\"\u001b[0;36m, line \u001b[0;32m3\u001b[0m\n\u001b[0;31m    >>> def numbertopattern(n, k):\u001b[0m\n\u001b[0m     ^\u001b[0m\n\u001b[0;31mSyntaxError\u001b[0m\u001b[0;31m:\u001b[0m invalid syntax\n"
     ]
    }
   ],
   "source": [
    "\n",
    "numbertosymbol = {0:'A', 1:'C', 2:'G', 3:'T'}\n",
    ">>> def numbertopattern(n, k):\n",
    "\tif k == 1:\n",
    "\t\treturn numbertosymbol[n]\n",
    "\tprefixindex = n//4\n",
    "\tr = n % 4\n",
    "\tsymbol = numbertosymbol[r]\n",
    "\tprefixpattern = numbertopattern(prefixindex, k-1)\n",
    "\treturn prefixpattern + symbol\n",
    "\n",
    ">>> \n",
    ">>> print(numbertopattern(45, 4))\n",
    "\n",
    ">>> print(numbertopattern(8043, 11))\n",
    "\n",
    "def HammingDistance(p, q):\n",
    "\tham = 0                                                #initialize the ham value\n",
    "                                                           #use zip fuction to iterate through multiple iterables,and aggregates 2 lists with the same index\n",
    "\tfor x, y in zip(p, q):                                 #go over all object(x) in list p and all object(y) in list q \n",
    "\t\tif x != y:                                         # if x isnt equal x\n",
    "\t\t\tham += 1                                       #ham is ham + 1\n",
    "\treturn ham\n",
    "print(numbertopattern(45, 4))\n",
    "AGTC\n",
    "\n",
    "def distanceBetweenPatternAndString(pattern, DNA):\n",
    "\tk = len(pattern)\n",
    "\tdistance = 0\n",
    "\tfor x in DNA:                                           #for each string text in DNA\n",
    "\t\thamming = k+1                                       #definte first, that no matches between pattern and in string text -> hamming = max.hammingdistance = len(pattern)  \n",
    "\t\tfor i in range(len(x) - k + 1):                     #go over all position from first position(i=0) to the last position(i= len(DNA)-len(pattern)+1) \n",
    "\t\t\tz = HammingDistance(pattern, x[i:i+k])          #y is the hammingDistance between the pattern and the string text in DNA(x) starting from the position i to i+k   \n",
    "\t\t\tif hamming > z:                                 #if the new hammingdistance between the pattern and the string text of i to i+k position is lower or equal to the max.hammingdistance   \n",
    "\t\t\t\thamming = z                                 #hamming will be the new hammingdistance\n",
    "\t\tdistance += hamming                                 #distance is then the lowest hammingdistance in this DNA\n",
    "\treturn distance\n",
    "DNA = [\"TTACCTTAAC\", \"GATATCTGTC\", \"ACGGCGTTCG\", \"CCCTAAAGAG\", \"CGTCAGAGGT\"]\n",
    "pattern = \"AAA\"\n",
    "print(distanceBetweenPatternAndString(pattern,DNA))\n",
    "\n",
    "\n"
   ]
  },
  {
   "cell_type": "code",
   "execution_count": null,
   "metadata": {},
   "outputs": [],
   "source": []
  },
  {
   "cell_type": "code",
   "execution_count": 46,
   "metadata": {},
   "outputs": [
    {
     "name": "stdout",
     "output_type": "stream",
     "text": [
      "CGGCGA\n"
     ]
    }
   ],
   "source": [
    "numbertosymbol = {0:'A', 1:'C', 2:'G', 3:'T'}\n",
    "def numbertopattern(n, k):\n",
    "\tif k == 1:\n",
    "\t\treturn numbertosymbol[n]\n",
    "\tprefixindex = n//4\n",
    "\tr = n % 4\n",
    "\tsymbol = numbertosymbol[r]\n",
    "\tprefixpattern = numbertopattern(prefixindex, k-1)\n",
    "\treturn prefixpattern + symbol\n",
    "\n",
    "def HammingDistance(p, q):\n",
    "\tham = 0                                                #initialize the ham value\n",
    "                                                           #use zip fuction to iterate through multiple iterables,and aggregates 2 lists with the same index\n",
    "\tfor x, y in zip(p, q):                                 #go over all object(x) in list p and all object(y) in list q \n",
    "\t\tif x != y:                                         # if x isnt equal x\n",
    "\t\t\tham += 1                                       #ham is ham + 1\n",
    "\treturn ham\n",
    "\n",
    "def distanceBetweenPatternAndString(pattern, DNA):\n",
    "\tk = len(pattern)\n",
    "\tdistance = 0\n",
    "\tfor x in DNA:                                           #for each string text in DNA\n",
    "\t\thamming = k+1                                       #define first, that no matches between pattern and in string text -> hamming = max.hammingdistance = len(pattern)  \n",
    "\t\tfor i in range(len(x) - k + 1):                     #go over all position from first position(i=0) to the last position(i= len(DNA)-len(pattern)+1) \n",
    "\t\t\tz = HammingDistance(pattern, x[i:i+k])          #defined y: y is the hammingDistance between the pattern and the string text in DNA(x) starting from the position i to i+k   \n",
    "\t\t\tif hamming > z:                                 #if the new hammingdistance between the pattern and the string text of i to i+k position is lower or equal to the max.hammingdistance   \n",
    "\t\t\t\thamming = z                                 #hamming will be the new hammingdistance\n",
    "\t\tdistance += hamming                                 #distance is then the lowest hammingdistance in this DNA\n",
    "\treturn distance\n",
    "\n",
    "\n",
    "\n",
    "def medianstring(DNA,k):\n",
    "    distance = len(DNA)+1                                   #defined that there are no matches (max. hammingdistance)\n",
    "    for i in range(4**k - 1):                               #go over the created pattern with all combinations by using the numbertopattern\n",
    "        pattern = numbertopattern(i,k)                      \n",
    "        w = distanceBetweenPatternAndString(pattern, DNA)   #defined w: the lowest HammingDistance between the each created pattern and the DNA\n",
    "        if distance > w:                                    #if the w is less than the max. hammingdistance, or the old value frow the last loop, \n",
    "            distance = w                                    #save it and distance will be this new value W from this pattern!\n",
    "            median = pattern\n",
    "    return median\n",
    "\n",
    "k = 6\n",
    "DNA = [\"TGATGATAACGTGACGGGACTCAGCGGCGATGAAGGATGAGT\"\n",
    "\"CAGCGACAGACAATTTCAATAATATCCGCGGTAAGCGGCGTA\",\n",
    "\"TGCAGAGGTTGGTAACGCCGGCGACTCGGAGAGCTTTTCGCT\",\n",
    "\"TTTGTCATGAACTCAGATACCATAGAGCACCGGCGAGACTCA\",\n",
    "\"ACTGGGACTTCACATTAGGTTGAACCGCGAGCCAGGTGGGTG\",\n",
    "\"TTGCGGACGGGATACTCAATAACTAAGGTAGTTCAGCTGCGA\",\n",
    "\"TGGGAGGACACACATTTTCTTACCTCTTCCCAGCGAGATGGC\",\n",
    "\"GAAAAAACCTATAAAGTCCACTCTTTGCGGCGGCGAGCCATA\",\n",
    "\"CCACGTCCGTTACTCCGTCGCCGTCAGCGATAATGGGATGAG\",\n",
    "\"CCAAAGCTGCGAAATAACCATACTCTGCTCAGGAGCCCGATG\"]\n",
    "       \n",
    "print(medianstring(DNA,k))\n",
    "\n",
    "   "
   ]
  },
  {
   "cell_type": "code",
   "execution_count": null,
   "metadata": {},
   "outputs": [],
   "source": []
  }
 ],
 "metadata": {
  "kernelspec": {
   "display_name": "Python 3",
   "language": "python",
   "name": "python3"
  },
  "language_info": {
   "codemirror_mode": {
    "name": "ipython",
    "version": 3
   },
   "file_extension": ".py",
   "mimetype": "text/x-python",
   "name": "python",
   "nbconvert_exporter": "python",
   "pygments_lexer": "ipython3",
   "version": "3.6.5"
  }
 },
 "nbformat": 4,
 "nbformat_minor": 2
}
