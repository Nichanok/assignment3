{
 "cells": [
  {
   "cell_type": "code",
   "execution_count": 12,
   "metadata": {},
   "outputs": [
    {
     "name": "stdout",
     "output_type": "stream",
     "text": [
      "5\n"
     ]
    }
   ],
   "source": [
    "def HammingDistance(p, q):\n",
    "\tham = 0                                                #initialize the ham value\n",
    "                                                           #use zip fuction to iterate through multiple iterables,and aggregates 2 lists with the same index\n",
    "\tfor x, y in zip(p, q):                                 #go over all object(x) in list p and all object(y) in list q \n",
    "\t\tif x != y:                                         # if x isnt equal x\n",
    "\t\t\tham += 1                                       #ham is ham + 1\n",
    "\treturn ham\n",
    "\n",
    "def distanceBetweenPatternAndString(pattern, DNA):\n",
    "\tk = len(pattern)\n",
    "\tdistance = 0\n",
    "\tfor x in DNA:                                           #for each string text in DNA\n",
    "\t\thamming = k+1                                       #definte first, that no matches between pattern and in string text -> hamming = max.hammingdistance = len(pattern)  \n",
    "\t\tfor i in range(len(x) - k + 1):                     #go over all position from first position(i=0) to the last position(i= len(DNA)-len(pattern)+1) \n",
    "\t\t\tz = HammingDistance(pattern, x[i:i+k])          #y is the hammingDistance between the pattern and the string text in DNA(x) starting from the position i to i+k   \n",
    "\t\t\tif hamming > z:                                 #if the new hammingdistance between the pattern and the string text of i to i+k position is lower or equal to the max.hammingdistance   \n",
    "\t\t\t\thamming = z                                 #hamming will be the new hammingdistance\n",
    "\t\tdistance += hamming                                 #distance is then the lowest hammingdistance in this DNA\n",
    "\treturn distance\n",
    "DNA = [\"TTACCTTAAC\", \"GATATCTGTC\", \"ACGGCGTTCG\", \"CCCTAAAGAG\", \"CGTCAGAGGT\"]\n",
    "pattern = \"AAA\"\n",
    "print(distanceBetweenPatternAndString(pattern,DNA))"
   ]
  },
  {
   "cell_type": "code",
   "execution_count": 15,
   "metadata": {},
   "outputs": [
    {
     "name": "stdout",
     "output_type": "stream",
     "text": [
      "76\n"
     ]
    }
   ],
   "source": [
    "DNA = [\"TCTGCAGAGCGCAAGCGTCTCAATGTTTTTCGCTGCAAGTGTTAGCTGCGTTTGTCGACACACAAATGAAGTGACCACATCAAACCTAATTATG\", \"TCCCGCTCGAGGACAGACACCGGTGCAGCCGAGGGTATTATAGTCTGCTCGTATGGTTTGTATGGAGGATAATAGATGGGGTGACGAAATGAGA\", \"CCTCCCTGCCAGGTTGGTGAATTTAAGCATAAAGACCTGGAGGACTGACGGGTCTGGTCGACCACCATTCGTCGGTTCTCGAGCGCTGTTTCTA\", \"GATACAGGTCGCTTGAAATGTCCCTGAGACGTCCGGGCCAAGAGCGAAACAAATCTCAGTCCTGGGTGGCGGCAGCGAAGGGATTAGATTACTT\", \"ATGGAACCGTGTCACGGCAGTCTACCTTTTACCCAGAGCTGTATATGACGGTTAGTCCCCGAGGCCATCTCGCACCCTACTGAGCACAAATATA\",\"AATCCCTGCAGGTCAGGCTGTTCTGAAAGAACCCTGCAGGCTGGTGCTATTCCTTAAGACGCCGAGGTTCAGATACTCTCAGCCAGAGAGCAGA\",\"CCTATTAACTTCTCTCTAGATCGTAAACGACTATGGACTTACACGTCCCGCTTTCTTGTCTTGGGTGCCGTCACACTAGCCCACTACAGTCGGG\",\"GGCGCACCTTCGATATTAATGCGAGTCAATTGCCGTTTAAGTCCGCGCGTAGCGGATGCACGTAGGGACTTTAAAGCCCCATGCCAACTGTATA\",\"TCTTGGTTACAATTACCCTCCTGAGCCGATAAGCGCCTCTCAGGCACACTGTGGCAGTTCATCGTGTCCTTCGTCTTATTCCCTGCCCCCAGCA\",\"ATCTCAATGCGATATATATGGTCCTGCCTAAAAATAGAGCTAGTGAGCGTGGTGGTATCATTGTTGACTACCCGGGACAGGCGACACCGTACGA\",\"ATCTATAGAAACATCTAGCACAGGAACACCCATAAAAACACCACTAGCCGACCTGTTCGTCGGTTTTCCATGCGAATGGTAATATTACGTTTGT\",\"ACGCATACGTCAGAAATCTGTGAAAGTACGACGCCCACTGGACCCACGGTCGCTGCGTTCACAATCATTGTGATCCTGGATCCATAACGCCTAA\",\"GACCAAGGCCCGAAAGTGTGGCGAGATAAGAAAACCCACTCCATATGACCGTGGATCCCGTGGGAGTCCTCCTTTCATCCCTCTAGCGCTAGAA\",\"ATACCCCCGTAGTTTTCGGACTCAAAAAGTATTTATGTGACTTGCAATAGTAGAGACCGGCGTCTTTGCCGCTGTCACCTGCTGTATGATCACC\",\"CGATGGTACCCAAGAGTGGTCGGTCTACCAAGCATCGCGACCCGCTTTCGTTCACCAGCCGAGAGTGCCATGTAAGTCAGCAGCTAACACCCTG\",\"TGTCTCAAGCATTACTATGGCTGGCCTCGTTATTAGATTCTGCCTAAGCCGCATGGGCGCGTGACCGTGGGCACATTGCCCTGAATTACCCGCC\",\"AGGTGCAATTAACTGTACTAAGCTCAAGATCTCAATCCGCAAAGGCCATTCAGGCGACTCCGTGTGGTGCCTATACCGCACAAACGTAGGAGCG\",\"CATTAAGACGGATTGGGACCCGCGGGAGAAAGGCGCGTTGGAGCGAGGGGGTCATTTGCACTGCCGAGCAGACGCGTCTAGGTCATCTTCTCTA\",\"CCGAAAAGCCCAAAGGTTTTATGCAAGTTCCACGAGAATCGTCGAGCGCTGAGGTACGGCCACCGAATCACAATTCCATTCACATTCGCGGAGT\",\"TTTCTTTGGCAGATGTCCTCCGGACTTCCGGAATGAAGCTTCAGGGCGCGCCTATCGCGAAACCCCGACGTGACGGAACGTCCTGTCCTGGACT\",\"AGTTGCCCAAGGTTTGGACCTGCCCGGTTTTCTGGCCGCGTATGAAGTATTCCAGTAGATCCCTGCGATACTTCTCGCTACGCTAGGTCCGATA\",\"CTCGTAAATAAACGGGATAACAAAGTGTTATCGATTATGTATAGCGGTCAGGGTGTCTGCACTTATCGGAGTCGGGAGGAGACCCTTCCTAAGA\",\"CGCTTATGTCGTAAGTATAGCAACTAAGGGGCCATATGAACAAGTGTAGTACACGCGGCACCAGGTACCCTTAGGCGTTGTTCTTCGGAGGTTT\",\"CTAAAGACCCCGCGTGGAATTAGAGGGAGCTCCAACGATAGAAATGAAGGAGGGGGCTTGTATAAATCCAACTGAAGGTGAACGAAGCTATAGA\",\"CGTTTCCCTACACGGCCAATGAACAGCGGGCGCATAACATCTCTTAGCCCTGACTTCTGCGACGCATATATTTACCGGGACATGATCACAGTGT\",\"TTACAGCACAGCAAGAAATTCCGTGCTTGGGGGATCTACCGTGCATACTCCTGAGCCCAGATATTGGCCCGTAAGAATCATGCATTGAAAATAA\",\"TGGTCTCACCAGTGGGCACCGCGTATTGTCAGGCAAGAGCAATTAGTGATTCGTACATAGAGGTCTTCAATCTCATGTATAGAGTCGCTGGTTC\",\"ATGCACCTAGAAGAACATAGTTAAGAAGCGTCATGGAGCTACAGAGTTCCGTGGCAATGTACAGTAGCTGTTGCCAATTTGTTGGGACTCAGCC\",\"AGGTCTCTTCGAAATAGGTAGTGCCGGAACCATACTGAGAGTCTGCAAACGTTGCTTCGGAATGTACCTGTTGAGGACACTACTCTGACGGGCG\",\"GCGATCACCCGCGACTCGTTCACTGGTACTTCCAATGCACTGCGCCCAATGCGCAATACGCGAATTCTCTTAAATGATCTCAAATATATGAGCT\"]\n",
    "pattern = \"AATTGGG\"\n",
    "print(distanceBetweenPatternAndString(pattern,DNA))"
   ]
  },
  {
   "cell_type": "code",
   "execution_count": null,
   "metadata": {},
   "outputs": [],
   "source": []
  }
 ],
 "metadata": {
  "kernelspec": {
   "display_name": "Python 3",
   "language": "python",
   "name": "python3"
  },
  "language_info": {
   "codemirror_mode": {
    "name": "ipython",
    "version": 3
   },
   "file_extension": ".py",
   "mimetype": "text/x-python",
   "name": "python",
   "nbconvert_exporter": "python",
   "pygments_lexer": "ipython3",
   "version": "3.6.5"
  }
 },
 "nbformat": 4,
 "nbformat_minor": 2
}
